{
 "cells": [
  {
   "metadata": {},
   "cell_type": "markdown",
   "source": "Placa de carro\n",
   "id": "2173ebc39c66d961"
  },
  {
   "metadata": {
    "ExecuteTime": {
     "end_time": "2024-04-16T15:16:11.735407Z",
     "start_time": "2024-04-16T15:16:01.496946Z"
    }
   },
   "cell_type": "code",
   "source": [
    "import re\n",
    "\n",
    "def validar_placa_carro(placa):\n",
    "    \n",
    "    padrao = re.compile(r\"^(?=.*[A-F])(?=.*\\d)[A-F]{0,3}[\\d]{0,4}$\")\n",
    "    \n",
    "    if padrao.match(placa):\n",
    "        return True\n",
    "    else:\n",
    "        return False\n",
    "\n",
    "placa = input(\"Digite a placa para validar: \")\n",
    "if validar_placa_carro(placa):\n",
    "    print(\"Placa válida!\")\n",
    "else:\n",
    "    print(\"Placa inválida! A placa deve ter 7 caracteres, contendo 3 letras e 4 números\")\n"
   ],
   "id": "af87f3f374df39c8",
   "outputs": [
    {
     "name": "stdout",
     "output_type": "stream",
     "text": [
      "Placa inválida! A placa deve ter 7 caracteres, contendo 3 letras e 4 números\n"
     ]
    }
   ],
   "execution_count": 54
  }
 ],
 "metadata": {
  "kernelspec": {
   "display_name": "Python 3",
   "language": "python",
   "name": "python3"
  },
  "language_info": {
   "codemirror_mode": {
    "name": "ipython",
    "version": 2
   },
   "file_extension": ".py",
   "mimetype": "text/x-python",
   "name": "python",
   "nbconvert_exporter": "python",
   "pygments_lexer": "ipython2",
   "version": "2.7.6"
  }
 },
 "nbformat": 4,
 "nbformat_minor": 5
}
