import re


def validar_placa_carro(placa):
    padrao = re.compile(r"^[A-F]{3}\d{4}$")

    if padrao.match(placa):
        return True
    else:
        return False


placa = input("Digite a placa para validar: ")
if validar_placa_carro(placa):
    print("Placa válida!")
else:
    print("Placa inválida! A placa deve ter 7 caracteres, contendo 3 letras e 4 números")
